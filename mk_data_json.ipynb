{
 "cells": [
  {
   "cell_type": "code",
   "execution_count": 1,
   "metadata": {},
   "outputs": [],
   "source": [
    "import numpy as np\n",
    "import pandas as pd\n",
    "\n",
    "import os\n",
    "from datetime import datetime\n",
    "import matplotlib.pyplot as plt\n",
    "import copy\n",
    "from tqdm import tqdm\n",
    "\n",
    "# Palette setting\n",
    "import seaborn as sns\n",
    "sns.set_palette('Set2')\n",
    "# 한글 폰트 깨짐 해결\n",
    "import matplotlib\n",
    "matplotlib.rcParams['font.family'] ='Malgun Gothic'\n",
    "matplotlib.rcParams['axes.unicode_minus'] =False"
   ]
  },
  {
   "cell_type": "code",
   "execution_count": 2,
   "metadata": {},
   "outputs": [],
   "source": [
    "# Warning 안뜨도록\n",
    "import warnings\n",
    "warnings.filterwarnings(\"ignore\")"
   ]
  },
  {
   "cell_type": "markdown",
   "metadata": {},
   "source": [
    "### Data path 접근하면서 dictionary 생성"
   ]
  },
  {
   "cell_type": "code",
   "execution_count": 61,
   "metadata": {},
   "outputs": [],
   "source": [
    "root_path = 'c:/Users/nj/nj/Datasets/BRATS2017/'\n",
    "\n",
    "file_dict = []\n",
    "\n",
    "for dir in ['HGG', \"LGG\"]:\n",
    "    path1 = os.path.join(root_path,dir)\n",
    "    for dir2 in sorted(os.listdir(path1)):\n",
    "        path2 = os.path.join(path1, dir2)\n",
    "        if 'DS_Store' in path2:\n",
    "            continue\n",
    "\n",
    "        dict_temp = {}\n",
    "        for file in sorted(os.listdir(path2)):\n",
    "            for type in ['flair', 't1.', 't1ce', 't2', 'seg']:\n",
    "                if type in file:\n",
    "                    if type == 't1.':\n",
    "                        type = 't1'\n",
    "                    dict_temp[type] = os.path.join(path2, file)[34:].replace('\\\\','/')\n",
    "        dict_temp['label'] = 0 if dir=='HGG' else 1\n",
    "        file_dict.append(dict_temp)"
   ]
  },
  {
   "cell_type": "code",
   "execution_count": 74,
   "metadata": {},
   "outputs": [
    {
     "data": {
      "text/html": [
       "<div>\n",
       "<style scoped>\n",
       "    .dataframe tbody tr th:only-of-type {\n",
       "        vertical-align: middle;\n",
       "    }\n",
       "\n",
       "    .dataframe tbody tr th {\n",
       "        vertical-align: top;\n",
       "    }\n",
       "\n",
       "    .dataframe thead th {\n",
       "        text-align: right;\n",
       "    }\n",
       "</style>\n",
       "<table border=\"1\" class=\"dataframe\">\n",
       "  <thead>\n",
       "    <tr style=\"text-align: right;\">\n",
       "      <th></th>\n",
       "      <th>flair</th>\n",
       "      <th>seg</th>\n",
       "      <th>t1</th>\n",
       "      <th>t1ce</th>\n",
       "      <th>t2</th>\n",
       "      <th>label</th>\n",
       "    </tr>\n",
       "  </thead>\n",
       "  <tbody>\n",
       "    <tr>\n",
       "      <th>0</th>\n",
       "      <td>HGG/Brats17_2013_10_1/Brats17_2013_10_1_flair....</td>\n",
       "      <td>HGG/Brats17_2013_10_1/Brats17_2013_10_1_seg.ni...</td>\n",
       "      <td>HGG/Brats17_2013_10_1/Brats17_2013_10_1_t1.nii.gz</td>\n",
       "      <td>HGG/Brats17_2013_10_1/Brats17_2013_10_1_t1ce.n...</td>\n",
       "      <td>HGG/Brats17_2013_10_1/Brats17_2013_10_1_t2.nii.gz</td>\n",
       "      <td>0</td>\n",
       "    </tr>\n",
       "    <tr>\n",
       "      <th>1</th>\n",
       "      <td>HGG/Brats17_2013_11_1/Brats17_2013_11_1_flair....</td>\n",
       "      <td>HGG/Brats17_2013_11_1/Brats17_2013_11_1_seg.ni...</td>\n",
       "      <td>HGG/Brats17_2013_11_1/Brats17_2013_11_1_t1.nii.gz</td>\n",
       "      <td>HGG/Brats17_2013_11_1/Brats17_2013_11_1_t1ce.n...</td>\n",
       "      <td>HGG/Brats17_2013_11_1/Brats17_2013_11_1_t2.nii.gz</td>\n",
       "      <td>0</td>\n",
       "    </tr>\n",
       "    <tr>\n",
       "      <th>2</th>\n",
       "      <td>HGG/Brats17_2013_12_1/Brats17_2013_12_1_flair....</td>\n",
       "      <td>HGG/Brats17_2013_12_1/Brats17_2013_12_1_seg.ni...</td>\n",
       "      <td>HGG/Brats17_2013_12_1/Brats17_2013_12_1_t1.nii.gz</td>\n",
       "      <td>HGG/Brats17_2013_12_1/Brats17_2013_12_1_t1ce.n...</td>\n",
       "      <td>HGG/Brats17_2013_12_1/Brats17_2013_12_1_t2.nii.gz</td>\n",
       "      <td>0</td>\n",
       "    </tr>\n",
       "    <tr>\n",
       "      <th>3</th>\n",
       "      <td>HGG/Brats17_2013_13_1/Brats17_2013_13_1_flair....</td>\n",
       "      <td>HGG/Brats17_2013_13_1/Brats17_2013_13_1_seg.ni...</td>\n",
       "      <td>HGG/Brats17_2013_13_1/Brats17_2013_13_1_t1.nii.gz</td>\n",
       "      <td>HGG/Brats17_2013_13_1/Brats17_2013_13_1_t1ce.n...</td>\n",
       "      <td>HGG/Brats17_2013_13_1/Brats17_2013_13_1_t2.nii.gz</td>\n",
       "      <td>0</td>\n",
       "    </tr>\n",
       "    <tr>\n",
       "      <th>4</th>\n",
       "      <td>HGG/Brats17_2013_14_1/Brats17_2013_14_1_flair....</td>\n",
       "      <td>HGG/Brats17_2013_14_1/Brats17_2013_14_1_seg.ni...</td>\n",
       "      <td>HGG/Brats17_2013_14_1/Brats17_2013_14_1_t1.nii.gz</td>\n",
       "      <td>HGG/Brats17_2013_14_1/Brats17_2013_14_1_t1ce.n...</td>\n",
       "      <td>HGG/Brats17_2013_14_1/Brats17_2013_14_1_t2.nii.gz</td>\n",
       "      <td>0</td>\n",
       "    </tr>\n",
       "    <tr>\n",
       "      <th>...</th>\n",
       "      <td>...</td>\n",
       "      <td>...</td>\n",
       "      <td>...</td>\n",
       "      <td>...</td>\n",
       "      <td>...</td>\n",
       "      <td>...</td>\n",
       "    </tr>\n",
       "    <tr>\n",
       "      <th>280</th>\n",
       "      <td>LGG/Brats17_TCIA_644_1/Brats17_TCIA_644_1_flai...</td>\n",
       "      <td>LGG/Brats17_TCIA_644_1/Brats17_TCIA_644_1_seg....</td>\n",
       "      <td>LGG/Brats17_TCIA_644_1/Brats17_TCIA_644_1_t1.n...</td>\n",
       "      <td>LGG/Brats17_TCIA_644_1/Brats17_TCIA_644_1_t1ce...</td>\n",
       "      <td>LGG/Brats17_TCIA_644_1/Brats17_TCIA_644_1_t2.n...</td>\n",
       "      <td>1</td>\n",
       "    </tr>\n",
       "    <tr>\n",
       "      <th>281</th>\n",
       "      <td>LGG/Brats17_TCIA_645_1/Brats17_TCIA_645_1_flai...</td>\n",
       "      <td>LGG/Brats17_TCIA_645_1/Brats17_TCIA_645_1_seg....</td>\n",
       "      <td>LGG/Brats17_TCIA_645_1/Brats17_TCIA_645_1_t1.n...</td>\n",
       "      <td>LGG/Brats17_TCIA_645_1/Brats17_TCIA_645_1_t1ce...</td>\n",
       "      <td>LGG/Brats17_TCIA_645_1/Brats17_TCIA_645_1_t2.n...</td>\n",
       "      <td>1</td>\n",
       "    </tr>\n",
       "    <tr>\n",
       "      <th>282</th>\n",
       "      <td>LGG/Brats17_TCIA_650_1/Brats17_TCIA_650_1_flai...</td>\n",
       "      <td>LGG/Brats17_TCIA_650_1/Brats17_TCIA_650_1_seg....</td>\n",
       "      <td>LGG/Brats17_TCIA_650_1/Brats17_TCIA_650_1_t1.n...</td>\n",
       "      <td>LGG/Brats17_TCIA_650_1/Brats17_TCIA_650_1_t1ce...</td>\n",
       "      <td>LGG/Brats17_TCIA_650_1/Brats17_TCIA_650_1_t2.n...</td>\n",
       "      <td>1</td>\n",
       "    </tr>\n",
       "    <tr>\n",
       "      <th>283</th>\n",
       "      <td>LGG/Brats17_TCIA_653_1/Brats17_TCIA_653_1_flai...</td>\n",
       "      <td>LGG/Brats17_TCIA_653_1/Brats17_TCIA_653_1_seg....</td>\n",
       "      <td>LGG/Brats17_TCIA_653_1/Brats17_TCIA_653_1_t1.n...</td>\n",
       "      <td>LGG/Brats17_TCIA_653_1/Brats17_TCIA_653_1_t1ce...</td>\n",
       "      <td>LGG/Brats17_TCIA_653_1/Brats17_TCIA_653_1_t2.n...</td>\n",
       "      <td>1</td>\n",
       "    </tr>\n",
       "    <tr>\n",
       "      <th>284</th>\n",
       "      <td>LGG/Brats17_TCIA_654_1/Brats17_TCIA_654_1_flai...</td>\n",
       "      <td>LGG/Brats17_TCIA_654_1/Brats17_TCIA_654_1_seg....</td>\n",
       "      <td>LGG/Brats17_TCIA_654_1/Brats17_TCIA_654_1_t1.n...</td>\n",
       "      <td>LGG/Brats17_TCIA_654_1/Brats17_TCIA_654_1_t1ce...</td>\n",
       "      <td>LGG/Brats17_TCIA_654_1/Brats17_TCIA_654_1_t2.n...</td>\n",
       "      <td>1</td>\n",
       "    </tr>\n",
       "  </tbody>\n",
       "</table>\n",
       "<p>285 rows × 6 columns</p>\n",
       "</div>"
      ],
      "text/plain": [
       "                                                 flair  \\\n",
       "0    HGG/Brats17_2013_10_1/Brats17_2013_10_1_flair....   \n",
       "1    HGG/Brats17_2013_11_1/Brats17_2013_11_1_flair....   \n",
       "2    HGG/Brats17_2013_12_1/Brats17_2013_12_1_flair....   \n",
       "3    HGG/Brats17_2013_13_1/Brats17_2013_13_1_flair....   \n",
       "4    HGG/Brats17_2013_14_1/Brats17_2013_14_1_flair....   \n",
       "..                                                 ...   \n",
       "280  LGG/Brats17_TCIA_644_1/Brats17_TCIA_644_1_flai...   \n",
       "281  LGG/Brats17_TCIA_645_1/Brats17_TCIA_645_1_flai...   \n",
       "282  LGG/Brats17_TCIA_650_1/Brats17_TCIA_650_1_flai...   \n",
       "283  LGG/Brats17_TCIA_653_1/Brats17_TCIA_653_1_flai...   \n",
       "284  LGG/Brats17_TCIA_654_1/Brats17_TCIA_654_1_flai...   \n",
       "\n",
       "                                                   seg  \\\n",
       "0    HGG/Brats17_2013_10_1/Brats17_2013_10_1_seg.ni...   \n",
       "1    HGG/Brats17_2013_11_1/Brats17_2013_11_1_seg.ni...   \n",
       "2    HGG/Brats17_2013_12_1/Brats17_2013_12_1_seg.ni...   \n",
       "3    HGG/Brats17_2013_13_1/Brats17_2013_13_1_seg.ni...   \n",
       "4    HGG/Brats17_2013_14_1/Brats17_2013_14_1_seg.ni...   \n",
       "..                                                 ...   \n",
       "280  LGG/Brats17_TCIA_644_1/Brats17_TCIA_644_1_seg....   \n",
       "281  LGG/Brats17_TCIA_645_1/Brats17_TCIA_645_1_seg....   \n",
       "282  LGG/Brats17_TCIA_650_1/Brats17_TCIA_650_1_seg....   \n",
       "283  LGG/Brats17_TCIA_653_1/Brats17_TCIA_653_1_seg....   \n",
       "284  LGG/Brats17_TCIA_654_1/Brats17_TCIA_654_1_seg....   \n",
       "\n",
       "                                                    t1  \\\n",
       "0    HGG/Brats17_2013_10_1/Brats17_2013_10_1_t1.nii.gz   \n",
       "1    HGG/Brats17_2013_11_1/Brats17_2013_11_1_t1.nii.gz   \n",
       "2    HGG/Brats17_2013_12_1/Brats17_2013_12_1_t1.nii.gz   \n",
       "3    HGG/Brats17_2013_13_1/Brats17_2013_13_1_t1.nii.gz   \n",
       "4    HGG/Brats17_2013_14_1/Brats17_2013_14_1_t1.nii.gz   \n",
       "..                                                 ...   \n",
       "280  LGG/Brats17_TCIA_644_1/Brats17_TCIA_644_1_t1.n...   \n",
       "281  LGG/Brats17_TCIA_645_1/Brats17_TCIA_645_1_t1.n...   \n",
       "282  LGG/Brats17_TCIA_650_1/Brats17_TCIA_650_1_t1.n...   \n",
       "283  LGG/Brats17_TCIA_653_1/Brats17_TCIA_653_1_t1.n...   \n",
       "284  LGG/Brats17_TCIA_654_1/Brats17_TCIA_654_1_t1.n...   \n",
       "\n",
       "                                                  t1ce  \\\n",
       "0    HGG/Brats17_2013_10_1/Brats17_2013_10_1_t1ce.n...   \n",
       "1    HGG/Brats17_2013_11_1/Brats17_2013_11_1_t1ce.n...   \n",
       "2    HGG/Brats17_2013_12_1/Brats17_2013_12_1_t1ce.n...   \n",
       "3    HGG/Brats17_2013_13_1/Brats17_2013_13_1_t1ce.n...   \n",
       "4    HGG/Brats17_2013_14_1/Brats17_2013_14_1_t1ce.n...   \n",
       "..                                                 ...   \n",
       "280  LGG/Brats17_TCIA_644_1/Brats17_TCIA_644_1_t1ce...   \n",
       "281  LGG/Brats17_TCIA_645_1/Brats17_TCIA_645_1_t1ce...   \n",
       "282  LGG/Brats17_TCIA_650_1/Brats17_TCIA_650_1_t1ce...   \n",
       "283  LGG/Brats17_TCIA_653_1/Brats17_TCIA_653_1_t1ce...   \n",
       "284  LGG/Brats17_TCIA_654_1/Brats17_TCIA_654_1_t1ce...   \n",
       "\n",
       "                                                    t2  label  \n",
       "0    HGG/Brats17_2013_10_1/Brats17_2013_10_1_t2.nii.gz      0  \n",
       "1    HGG/Brats17_2013_11_1/Brats17_2013_11_1_t2.nii.gz      0  \n",
       "2    HGG/Brats17_2013_12_1/Brats17_2013_12_1_t2.nii.gz      0  \n",
       "3    HGG/Brats17_2013_13_1/Brats17_2013_13_1_t2.nii.gz      0  \n",
       "4    HGG/Brats17_2013_14_1/Brats17_2013_14_1_t2.nii.gz      0  \n",
       "..                                                 ...    ...  \n",
       "280  LGG/Brats17_TCIA_644_1/Brats17_TCIA_644_1_t2.n...      1  \n",
       "281  LGG/Brats17_TCIA_645_1/Brats17_TCIA_645_1_t2.n...      1  \n",
       "282  LGG/Brats17_TCIA_650_1/Brats17_TCIA_650_1_t2.n...      1  \n",
       "283  LGG/Brats17_TCIA_653_1/Brats17_TCIA_653_1_t2.n...      1  \n",
       "284  LGG/Brats17_TCIA_654_1/Brats17_TCIA_654_1_t2.n...      1  \n",
       "\n",
       "[285 rows x 6 columns]"
      ]
     },
     "execution_count": 74,
     "metadata": {},
     "output_type": "execute_result"
    }
   ],
   "source": [
    "pd.DataFrame(file_dict)"
   ]
  },
  {
   "cell_type": "markdown",
   "metadata": {},
   "source": [
    "#### 추출한 dictionary 저장"
   ]
  },
  {
   "cell_type": "code",
   "execution_count": 64,
   "metadata": {},
   "outputs": [],
   "source": [
    "import json"
   ]
  },
  {
   "cell_type": "code",
   "execution_count": 69,
   "metadata": {},
   "outputs": [],
   "source": [
    "with open(\"dataset/BraTS2017_filedict.json\",\"w\") as f:\n",
    "    json.dump(file_dict, f, indent=4) # indent 넣어야 예쁘게 정리되서 저장됨"
   ]
  },
  {
   "cell_type": "code",
   "execution_count": 66,
   "metadata": {},
   "outputs": [
    {
     "data": {
      "text/plain": [
       "285"
      ]
     },
     "execution_count": 66,
     "metadata": {},
     "output_type": "execute_result"
    }
   ],
   "source": [
    "len(file_dict) # train 210개, test 75개\n",
    "# pd.DataFrame(file_dict).to_csv('dataset/BraTS2017_filedict.csv')"
   ]
  },
  {
   "cell_type": "markdown",
   "metadata": {},
   "source": [
    "### Train, Validation 나눠서 저장"
   ]
  },
  {
   "cell_type": "code",
   "execution_count": 94,
   "metadata": {},
   "outputs": [],
   "source": [
    "file_dict = np.array(file_dict)"
   ]
  },
  {
   "cell_type": "code",
   "execution_count": 113,
   "metadata": {},
   "outputs": [],
   "source": [
    "valid_idx = np.append(np.append(np.arange(16,20),np.arange(91,108)),np.arange(190,210))\n",
    "valid_idx = np.append(np.append(valid_idx, np.arange(218,220)),np.arange(273,285))\n",
    "train_idx = np.setdiff1d(np.arange(0,len(file_dict)),valid_idx)"
   ]
  },
  {
   "cell_type": "code",
   "execution_count": 115,
   "metadata": {},
   "outputs": [
    {
     "data": {
      "text/plain": [
       "array([ 16,  17,  18,  19,  91,  92,  93,  94,  95,  96,  97,  98,  99,\n",
       "       100, 101, 102, 103, 104, 105, 106, 107, 190, 191, 192, 193, 194,\n",
       "       195, 196, 197, 198, 199, 200, 201, 202, 203, 204, 205, 206, 207,\n",
       "       208, 209, 218, 219, 273, 274, 275, 276, 277, 278, 279, 280, 281,\n",
       "       282, 283, 284])"
      ]
     },
     "execution_count": 115,
     "metadata": {},
     "output_type": "execute_result"
    }
   ],
   "source": [
    "valid_idx"
   ]
  },
  {
   "cell_type": "code",
   "execution_count": 114,
   "metadata": {},
   "outputs": [
    {
     "name": "stdout",
     "output_type": "stream",
     "text": [
      "train length: 230, validation length: 55, total: 285\n"
     ]
    }
   ],
   "source": [
    "print(f'train length: {len(train_idx)}, validation length: {len(valid_idx)}, total: {len(file_dict)}')"
   ]
  },
  {
   "cell_type": "code",
   "execution_count": 121,
   "metadata": {},
   "outputs": [],
   "source": [
    "final_dict = {\n",
    "    'description':'BraTS2017 (train:test=8:2, class 비율 동일하게)',\n",
    "    'labels':{\n",
    "        '0':'HGG',\n",
    "        '1':'LGG',\n",
    "    },\n",
    "    'numTest':57,\n",
    "    'numTrain':228,\n",
    "    'validation':list(file_dict[valid_idx]),'training':list(file_dict[train_idx])\n",
    "    }"
   ]
  },
  {
   "cell_type": "code",
   "execution_count": 122,
   "metadata": {},
   "outputs": [],
   "source": [
    "with open(\"dataset/BraTS2017.json\",\"w\") as f:\n",
    "    json.dump(final_dict, f, indent=4) # indent 넣어야 예쁘게 정리되서 저장됨"
   ]
  }
 ],
 "metadata": {
  "kernelspec": {
   "display_name": "ipiu2024_winter",
   "language": "python",
   "name": "python3"
  },
  "language_info": {
   "codemirror_mode": {
    "name": "ipython",
    "version": 3
   },
   "file_extension": ".py",
   "mimetype": "text/x-python",
   "name": "python",
   "nbconvert_exporter": "python",
   "pygments_lexer": "ipython3",
   "version": "3.8.18"
  }
 },
 "nbformat": 4,
 "nbformat_minor": 2
}
